{
  "cells": [
    {
      "cell_type": "code",
      "execution_count": null,
      "metadata": {
        "id": "z7pXoim3sDNb"
      },
      "outputs": [],
      "source": [
        "import numpy as np\n",
        "import numpy.random as rnd\n",
        "import matplotlib.pyplot as plt\n",
        "from sklearn.cluster import KMeans\n",
        "from tqdm import tqdm"
      ]
    },
    {
      "cell_type": "code",
      "execution_count": null,
      "metadata": {
        "id": "HRMqyrtYsDNf"
      },
      "outputs": [],
      "source": [
        "def srch(x, y, mlist):\n",
        "    for i in range(len(mlist)):\n",
        "      if i==0:\n",
        "        if (mlist[i][0]==x or mlist[i][0]==x-1) or mlist[i][0]==x+1:\n",
        "          if (mlist[i][1]==y or mlist[i][1]==y-1) or mlist[i][1]==y+1:\n",
        "           return 1\n",
        "           break\n",
        "      else:\n",
        "        if (mlist[i][0]==x or mlist[i][0]==x-1) or mlist[i][0]==x+1:\n",
        "          if (mlist[i][1]==y or mlist[i][1]==y-1) or mlist[i][1]==y+1:\n",
        "            break\n",
        "    if i==len(mlist)-1:\n",
        "     return 0\n",
        "    else:\n",
        "      return 1\n",
        "\n",
        "def dist(P, Q):\n",
        "  d =((P[0]-Q[0])**2 + (P[1]-Q[1])**2)**0.5\n",
        "  return d\n",
        "\n",
        "def cluster_i(X, Centers):\n",
        "  index=0\n",
        "  d1=9999999999\n",
        "  for i in range(len(Centers)):\n",
        "    d2 = dist(X, Centers[i])\n",
        "    if d2<=d1:\n",
        "      index=i\n",
        "    d1=d2\n",
        "  return index\n",
        "\n",
        "def fit(x, y, DLA_set):\n",
        "  for i in range(1, Steps):\n",
        "    temp=[]\n",
        "    x_l = [x[i-1], x[i-1]+1, x[i-1]-1]\n",
        "    y_l = [y[i-1], y[i-1]+1, y[i-1]-1]\n",
        "    p = rnd.randint(0, 3)\n",
        "    q = rnd.randint(0, 3)\n",
        "    x[i] = x_l[p]\n",
        "    y[i] = y_l[q]\n",
        "    if x[i]<0 or y[i]<0:\n",
        "      break\n",
        "    if x[i]>S or y[i]>S:\n",
        "      break\n",
        "    if srch(x[i], y[i], DLA_set)==1:\n",
        "      temp.append(x[i])\n",
        "      temp.append(y[i])\n",
        "      DLA_set.append(temp)\n",
        "      break \n",
        "\n",
        "\n",
        "def Union(A, B):\n",
        "  uni=A.copy()\n",
        "  for x in B:\n",
        "    if x not in A:\n",
        "      uni.append(x)\n",
        "    return uni"
      ]
    },
    {
      "cell_type": "code",
      "execution_count": null,
      "metadata": {
        "id": "Hi8ZyvAosDNg"
      },
      "outputs": [],
      "source": [
        "S = 501\n",
        "N = 50000 #no of random points\n",
        "Steps = 10000\n",
        "\n",
        "DLA_set=[[S//2, S//2]]"
      ]
    },
    {
      "cell_type": "code",
      "execution_count": null,
      "metadata": {
        "id": "-hRelukPsDNh",
        "outputId": "a80558f5-575d-4d3b-e7ae-78d95290f87c"
      },
      "outputs": [
        {
          "name": "stderr",
          "output_type": "stream",
          "text": [
            "100%|██████████| 2500/2500 [14:07<00:00,  2.95it/s]\n"
          ]
        }
      ],
      "source": [
        "for i in tqdm(range(0, 2500)):\n",
        "    x = np.zeros(Steps)\n",
        "    y = np.zeros(Steps)\n",
        "    x[0]=rnd.randint(0,S)\n",
        "    y[0]=rnd.randint(0,S)\n",
        "    fit(x, y, DLA_set)"
      ]
    },
    {
      "cell_type": "code",
      "execution_count": null,
      "metadata": {
        "id": "Mk12jfzcsDNi",
        "outputId": "f639f804-f2f4-4078-868c-9b06eee64874"
      },
      "outputs": [
        {
          "data": {
            "text/plain": [
              "106"
            ]
          },
          "execution_count": 5,
          "metadata": {},
          "output_type": "execute_result"
        }
      ],
      "source": [
        "len(DLA_set)"
      ]
    },
    {
      "cell_type": "code",
      "execution_count": null,
      "metadata": {
        "id": "4sSJ_XC2sDNj",
        "outputId": "b30426dd-d1d0-4a47-8dfc-4fcce7fd06ac"
      },
      "outputs": [
        {
          "data": {
            "image/png": "[encoded data removed]",
            "text/plain": [
              "<Figure size 360x360 with 1 Axes>"
            ]
          },
          "metadata": {
            "needs_background": "light"
          },
          "output_type": "display_data"
        }
      ],
      "source": [
        "z1=[]\n",
        "z2=[]\n",
        "for i in range(len(DLA_set)):\n",
        "  z1.append(DLA_set[i][0])\n",
        "  z2.append(DLA_set[i][1])\n",
        "\n",
        "plt.figure(figsize=(5, 5))\n",
        "#plotting the points\n",
        "plt.scatter(z1, z2, color = 'blue')\n",
        "plt.show()"
      ]
    },
    {
      "cell_type": "code",
      "execution_count": null,
      "metadata": {
        "id": "dzo4pmnLsDNk",
        "outputId": "5d5cbcf0-65cc-4a74-c96d-c9c4bc1b16d2"
      },
      "outputs": [
        {
          "name": "stderr",
          "output_type": "stream",
          "text": [
            "100%|██████████| 100/100 [00:28<00:00,  3.50it/s]\n",
            "100%|██████████| 108/108 [00:22<00:00,  4.79it/s]\n",
            "100%|██████████| 116/116 [00:24<00:00,  4.67it/s]\n",
            "100%|██████████| 124/124 [00:22<00:00,  5.44it/s]\n",
            "100%|██████████| 132/132 [00:23<00:00,  5.65it/s]\n",
            "100%|██████████| 140/140 [00:19<00:00,  7.29it/s]\n",
            "100%|██████████| 148/148 [00:21<00:00,  6.92it/s]\n",
            "100%|██████████| 156/156 [00:25<00:00,  6.03it/s]\n",
            "100%|██████████| 164/164 [00:26<00:00,  6.18it/s]\n",
            "100%|██████████| 172/172 [00:25<00:00,  6.81it/s]\n",
            "100%|██████████| 180/180 [00:24<00:00,  7.35it/s]\n",
            "100%|██████████| 188/188 [00:28<00:00,  6.70it/s]\n",
            "100%|██████████| 196/196 [00:30<00:00,  6.38it/s]\n",
            "100%|██████████| 204/204 [00:28<00:00,  7.09it/s]\n",
            "100%|██████████| 212/212 [00:31<00:00,  6.83it/s]\n",
            "100%|██████████| 220/220 [00:29<00:00,  7.45it/s]\n",
            "100%|██████████| 228/228 [00:29<00:00,  7.71it/s]\n",
            "100%|██████████| 236/236 [00:35<00:00,  6.62it/s]\n",
            "100%|██████████| 244/244 [00:32<00:00,  7.43it/s]\n",
            "100%|██████████| 252/252 [00:40<00:00,  6.27it/s]\n",
            "100%|██████████| 260/260 [00:34<00:00,  7.61it/s]\n",
            "100%|██████████| 268/268 [00:31<00:00,  8.57it/s]\n",
            "100%|██████████| 276/276 [00:29<00:00,  9.50it/s]\n",
            "100%|██████████| 284/284 [00:38<00:00,  7.47it/s]\n",
            "100%|██████████| 292/292 [00:38<00:00,  7.54it/s]\n",
            "100%|██████████| 300/300 [00:36<00:00,  8.26it/s]\n",
            "100%|██████████| 308/308 [00:45<00:00,  6.74it/s]\n",
            "100%|██████████| 316/316 [00:44<00:00,  7.11it/s]\n",
            "100%|██████████| 324/324 [00:39<00:00,  8.24it/s]\n",
            "100%|██████████| 332/332 [00:47<00:00,  7.06it/s]\n",
            "100%|██████████| 340/340 [00:42<00:00,  8.01it/s]\n",
            "100%|██████████| 348/348 [00:47<00:00,  7.38it/s]\n",
            "100%|██████████| 356/356 [00:52<00:00,  6.74it/s]\n",
            "100%|██████████| 364/364 [00:45<00:00,  8.03it/s]\n",
            "100%|██████████| 372/372 [00:57<00:00,  6.45it/s]\n",
            "100%|██████████| 380/380 [00:57<00:00,  6.66it/s]\n",
            "100%|██████████| 388/388 [00:57<00:00,  6.79it/s]\n",
            "100%|██████████| 396/396 [00:55<00:00,  7.07it/s]\n",
            "100%|██████████| 404/404 [00:56<00:00,  7.18it/s]\n",
            "100%|██████████| 412/412 [00:50<00:00,  8.23it/s]\n",
            "100%|██████████| 420/420 [01:00<00:00,  6.97it/s]\n",
            "100%|██████████| 428/428 [01:01<00:00,  6.90it/s]\n",
            "100%|██████████| 436/436 [00:57<00:00,  7.60it/s]\n",
            "100%|██████████| 444/444 [01:03<00:00,  6.94it/s]\n",
            "100%|██████████| 452/452 [01:00<00:00,  7.46it/s]\n",
            "100%|██████████| 460/460 [01:15<00:00,  6.13it/s]\n",
            "100%|██████████| 468/468 [01:11<00:00,  6.51it/s]\n",
            "100%|██████████| 476/476 [01:26<00:00,  5.48it/s]\n",
            "100%|██████████| 484/484 [00:56<00:00,  8.59it/s]\n",
            "100%|██████████| 492/492 [01:29<00:00,  5.52it/s]\n",
            "100%|██████████| 500/500 [01:19<00:00,  6.31it/s]\n",
            "100%|██████████| 508/508 [01:25<00:00,  5.94it/s]\n",
            "100%|██████████| 516/516 [01:24<00:00,  6.10it/s]\n",
            "100%|██████████| 524/524 [01:18<00:00,  6.70it/s]\n",
            "100%|██████████| 532/532 [01:14<00:00,  7.14it/s]\n",
            "100%|██████████| 540/540 [01:26<00:00,  6.27it/s]\n",
            "100%|██████████| 548/548 [01:35<00:00,  5.72it/s]\n",
            "100%|██████████| 556/556 [01:24<00:00,  6.55it/s]\n",
            "100%|██████████| 564/564 [01:26<00:00,  6.54it/s]\n",
            "100%|██████████| 572/572 [01:20<00:00,  7.07it/s]\n",
            "100%|██████████| 580/580 [01:21<00:00,  7.12it/s]\n",
            "100%|██████████| 588/588 [01:33<00:00,  6.31it/s]\n",
            "100%|██████████| 596/596 [01:23<00:00,  7.13it/s]\n",
            "100%|██████████| 604/604 [01:41<00:00,  5.97it/s]\n",
            "100%|██████████| 612/612 [01:38<00:00,  6.18it/s]\n",
            "100%|██████████| 620/620 [01:44<00:00,  5.95it/s]\n",
            "100%|██████████| 628/628 [01:24<00:00,  7.45it/s]\n",
            "100%|██████████| 636/636 [01:35<00:00,  6.65it/s]\n",
            "100%|██████████| 644/644 [01:47<00:00,  6.01it/s]\n",
            "100%|██████████| 652/652 [01:38<00:00,  6.60it/s]\n",
            "100%|██████████| 660/660 [01:41<00:00,  6.52it/s]\n",
            "100%|██████████| 668/668 [02:22<00:00,  4.69it/s]\n",
            "100%|██████████| 676/676 [01:49<00:00,  6.18it/s]\n",
            "100%|██████████| 684/684 [01:46<00:00,  6.41it/s]\n",
            "100%|██████████| 692/692 [02:02<00:00,  5.66it/s]\n",
            "100%|██████████| 700/700 [01:42<00:00,  6.82it/s]\n",
            "100%|██████████| 708/708 [02:01<00:00,  5.84it/s]\n",
            "100%|██████████| 716/716 [01:54<00:00,  6.28it/s]\n",
            "100%|██████████| 724/724 [02:04<00:00,  5.82it/s]\n",
            "100%|██████████| 732/732 [02:09<00:00,  5.67it/s]\n",
            "100%|██████████| 740/740 [02:01<00:00,  6.09it/s]\n",
            "100%|██████████| 748/748 [02:08<00:00,  5.82it/s]\n",
            "100%|██████████| 756/756 [02:24<00:00,  5.24it/s]\n",
            "100%|██████████| 764/764 [02:06<00:00,  6.03it/s]\n",
            "100%|██████████| 772/772 [02:23<00:00,  5.38it/s]\n",
            "100%|██████████| 780/780 [02:38<00:00,  4.91it/s]\n",
            "100%|██████████| 788/788 [02:04<00:00,  6.32it/s]\n",
            "100%|██████████| 796/796 [02:01<00:00,  6.53it/s]\n",
            "100%|██████████| 804/804 [02:18<00:00,  5.80it/s]\n",
            "100%|██████████| 812/812 [02:34<00:00,  5.27it/s]\n",
            "100%|██████████| 820/820 [02:34<00:00,  5.31it/s]\n",
            "100%|██████████| 828/828 [02:32<00:00,  5.42it/s]\n",
            "100%|██████████| 836/836 [02:21<00:00,  5.89it/s]\n",
            "100%|██████████| 844/844 [02:29<00:00,  5.66it/s]\n",
            "100%|██████████| 852/852 [03:01<00:00,  4.68it/s]\n",
            "100%|██████████| 860/860 [03:01<00:00,  4.73it/s]\n",
            "100%|██████████| 868/868 [03:30<00:00,  4.13it/s]\n",
            "100%|██████████| 876/876 [03:44<00:00,  3.90it/s]\n",
            "100%|██████████| 884/884 [03:12<00:00,  4.60it/s]\n",
            "100%|██████████| 892/892 [02:49<00:00,  5.25it/s]\n",
            "100%|██████████| 100/100 [2:17:19<00:00, 82.39s/it] \n"
          ]
        }
      ],
      "source": [
        "for i in tqdm(range(100)):\n",
        "  X = np.array(DLA_set)\n",
        "  #Training\n",
        "  kmeans = KMeans(n_clusters =4 + i, init = 'k-means++', random_state = 0)\n",
        "  y_kmeans = kmeans.fit_predict(X)\n",
        "  Centers =kmeans.cluster_centers_[:, :].tolist()\n",
        "  #Converting all clusters to list\n",
        "  Y=[]\n",
        "  for k in range(len(Centers)):\n",
        "    Y.append(X[y_kmeans == k].tolist())\n",
        "  for j in tqdm(range(100+i*8)):\n",
        "    A = [rnd.randint(0,S), rnd.randint(0,S)]\n",
        "    x = np.zeros(Steps)\n",
        "    y = np.zeros(Steps)\n",
        "    x[0]=A[0]\n",
        "    y[0]=A[1]\n",
        "    g=len(Y[cluster_i(A, Centers)])\n",
        "    #fit(x, y, X[y_kmeans == cluster_i(A, Centers)].tolist())\n",
        "    fit(x, y, Y[cluster_i(A, Centers)])\n",
        "    h=len(Y[cluster_i(A, Centers)])\n",
        "    #DLA_set = Union(DLA_set,Y[cluster_i(A, Centers)])\n",
        "    if h>g:\n",
        "      DLA_set.append(Y[cluster_i(A, Centers)][-1])"
      ]
    },
    {
      "cell_type": "code",
      "execution_count": null,
      "metadata": {
        "id": "sgqSklZ8sDNl",
        "outputId": "4165c7c5-d7ef-42f0-c3bb-88953e8f0866"
      },
      "outputs": [
        {
          "data": {
            "text/plain": [
              "1708"
            ]
          },
          "execution_count": 8,
          "metadata": {},
          "output_type": "execute_result"
        }
      ],
      "source": [
        "len(DLA_set)"
      ]
    },
    {
      "cell_type": "code",
      "execution_count": null,
      "metadata": {
        "id": "j3SE_BvLsDNm",
        "outputId": "2777e9b2-9d9b-4b8d-95bd-11eb5d57927a"
      },
      "outputs": [
        {
          "data": {
            "image/png": "[encoded data removed]",
            "text/plain": [
              "<Figure size 360x360 with 1 Axes>"
            ]
          },
          "metadata": {
            "needs_background": "light"
          },
          "output_type": "display_data"
        }
      ],
      "source": [
        "z1=[]\n",
        "z2=[]\n",
        "for i in range(len(DLA_set)):\n",
        "  z1.append(DLA_set[i][0])\n",
        "  z2.append(DLA_set[i][1])\n",
        "\n",
        "plt.figure(figsize=(5, 5))\n",
        "# plotting the points\n",
        "plt.scatter(z1, z2, color = 'blue')\n",
        "plt.show()"
      ]
    }
  ],
  "metadata": {
    "interpreter": {
      "hash": "1e9c6afa3c6e29d1f8a24d7f59d4303bc9fbbee1840f7bc96615fefe200f4351"
    },
    "kernelspec": {
      "display_name": "Python 3.9.6 64-bit",
      "language": "python",
      "name": "python3"
    },
    "language_info": {
      "codemirror_mode": {
        "name": "ipython",
        "version": 3
      },
      "file_extension": ".py",
      "mimetype": "text/x-python",
      "name": "python",
      "nbconvert_exporter": "python",
      "pygments_lexer": "ipython3",
      "version": "3.10.0"
    },
    "orig_nbformat": 4,
    "colab": {
      "name": "DLA_Final.ipynb.ipynb",
      "provenance": []
    }
  },
  "nbformat": 4,
  "nbformat_minor": 0
}