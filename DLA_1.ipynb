{
  "cells": [
    {
      "cell_type": "markdown",
      "metadata": {
        "id": "bZZqU_LF1opJ"
      },
      "source": [
        "# Creating the image"
      ]
    },
    {
      "cell_type": "code",
      "execution_count": 1,
      "metadata": {
        "id": "X3jrPJ8Q28FA"
      },
      "outputs": [],
      "source": [
        "import numpy as np\n",
        "import numpy.random as rnd\n",
        "import matplotlib.pyplot as plt\n",
        "from tqdm import tqdm\n",
        "S = 50\n",
        "N = 5000 ## no of random points\n",
        "Steps = 5000"
      ]
    },
    {
      "cell_type": "code",
      "execution_count": 2,
      "metadata": {
        "id": "lsvJO08aQZVa"
      },
      "outputs": [],
      "source": [
        "def srch(x, y, mlist):\n",
        "  for i in range(len(mlist)):\n",
        "    if i==0:\n",
        "      if (mlist[i][0]==x or mlist[i][0]==x-1) or mlist[i][0]==x+1:\n",
        "       if (mlist[i][1]==y or mlist[i][1]==y-1) or mlist[i][1]==y+1:\n",
        "         i=-1\n",
        "         break\n",
        "    else:\n",
        "      if (mlist[i][0]==x or mlist[i][0]==x-1) or mlist[i][0]==x+1:\n",
        "        if (mlist[i][1]==y or mlist[i][1]==y-1) or mlist[i][1]==y+1:\n",
        "          break\n",
        "  if i==-1:\n",
        "    return 1\n",
        "  elif i==len(mlist)-1:\n",
        "    return 0\n",
        "  else:\n",
        "    return 1"
      ]
    },
    {
      "cell_type": "code",
      "execution_count": 3,
      "metadata": {
        "id": "HlICFXmvRJYp"
      },
      "outputs": [],
      "source": [
        "DLA_set=[[S//2, S//2]]"
      ]
    },
    {
      "cell_type": "code",
      "execution_count": 4,
      "metadata": {
        "colab": {
          "base_uri": "https://localhost:8080/"
        },
        "id": "vDVitLNkQKLW",
        "outputId": "ef021bbe-71d5-47e5-a174-1ed257c3a85c"
      },
      "outputs": [
        {
          "output_type": "stream",
          "name": "stderr",
          "text": [
            "100%|██████████| 4999/4999 [03:41<00:00, 22.52it/s] \n"
          ]
        }
      ],
      "source": [
        "for j in tqdm(range(1, N)):\n",
        "  x = np.zeros(Steps)\n",
        "  y = np.zeros(Steps)\n",
        "  x[0]=rnd.randint(0,S)\n",
        "  y[0]=rnd.randint(0,S)\n",
        "  for i in range(1, Steps):\n",
        "      temp=[]\n",
        "      x_l = [x[i - 1], x[i - 1]+1, x[i - 1]-1]\n",
        "      y_l = [y[i - 1], y[i - 1]+1, y[i - 1]-1]\n",
        "      p = rnd.randint(0, 3)\n",
        "      q = rnd.randint(0, 3)\n",
        "      x[i] = x_l[p]\n",
        "      y[i] = y[q]\n",
        "      if x[i]<0 or y[i]<0:\n",
        "        break\n",
        "      if x[i]>S or y[i]>S:\n",
        "        break\n",
        "      if srch(x[i], y[i], DLA_set)==1:\n",
        "        temp.append(x[i])\n",
        "        temp.append(y[i])\n",
        "        DLA_set.append(temp)\n",
        "        break"
      ]
    },
    {
      "cell_type": "code",
      "execution_count": 5,
      "metadata": {
        "id": "A3FURzhaP4Np"
      },
      "outputs": [],
      "source": [
        "z1=[]\n",
        "z2=[]\n",
        "for i in range(len(DLA_set)):\n",
        "  z1.append(DLA_set[i][0])\n",
        "  z2.append(DLA_set[i][1])"
      ]
    },
    {
      "cell_type": "code",
      "execution_count": 7,
      "metadata": {
        "id": "UnRztEmdP4jg",
        "colab": {
          "base_uri": "https://localhost:8080/",
          "height": 320
        },
        "outputId": "5ce0ba09-5f50-4725-e111-848b5fe5f396"
      },
      "outputs": [
        {
          "output_type": "display_data",
          "data": {
            "image/png": "[encoded data removed]",
            "text/plain": [
              "<Figure size 360x360 with 1 Axes>"
            ]
          },
          "metadata": {
            "needs_background": "light"
          }
        }
      ],
      "source": [
        "plt.figure(figsize=(5, 5))\n",
        "# plotting the points\n",
        "plt.scatter(z1, z2,s=10, color = 'blue')\n",
        "plt.show()"
      ]
    }
  ],
  "metadata": {
    "colab": {
      "collapsed_sections": [],
      "name": "DLA_1.ipynb",
      "provenance": []
    },
    "kernelspec": {
      "display_name": "Python 3",
      "name": "python3"
    },
    "language_info": {
      "name": "python"
    }
  },
  "nbformat": 4,
  "nbformat_minor": 0
}